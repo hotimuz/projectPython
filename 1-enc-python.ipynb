{
  "nbformat": 4,
  "nbformat_minor": 0,
  "metadata": {
    "colab": {
      "name": "Untitled0.ipynb",
      "provenance": [],
      "authorship_tag": "ABX9TyNIgdkUPrE+6tFeAnrH3fuj",
      "include_colab_link": true
    },
    "kernelspec": {
      "name": "python3",
      "display_name": "Python 3"
    }
  },
  "cells": [
    {
      "cell_type": "markdown",
      "metadata": {
        "id": "view-in-github",
        "colab_type": "text"
      },
      "source": [
        "<a href=\"https://colab.research.google.com/github/hotimuz/projectPython/blob/master/1-enc-python.ipynb\" target=\"_parent\"><img src=\"https://colab.research.google.com/assets/colab-badge.svg\" alt=\"Open In Colab\"/></a>"
      ]
    },
    {
      "cell_type": "code",
      "metadata": {
        "id": "gWa-ZlgibxVO",
        "colab_type": "code",
        "colab": {}
      },
      "source": [
        "a = 99\n",
        "b = 55\n",
        "temp = a\n",
        "a = b\n",
        "b = temp\n",
        "assert a == 55\n",
        "assert b == 99\n"
      ],
      "execution_count": 26,
      "outputs": []
    },
    {
      "cell_type": "code",
      "metadata": {
        "id": "0eVeBCG_daHA",
        "colab_type": "code",
        "colab": {}
      },
      "source": [
        "def dobro(num):\n",
        "  return num*2\n",
        "assert 40 == dobro(20)\n"
      ],
      "execution_count": 23,
      "outputs": []
    }
  ]
}